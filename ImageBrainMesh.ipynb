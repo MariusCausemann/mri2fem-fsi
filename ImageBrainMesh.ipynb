{
 "cells": [
  {
   "cell_type": "markdown",
   "id": "9936aaa8",
   "metadata": {},
   "source": [
    "### Image-derived Mesh Generation with fTetWild \n",
    "\n",
    "In this notebook, we demonstrate how to generate a multidomain brain mesh using boolean operations on surface meshes derived from MRI imaging data with [fTetWild](https://wildmeshing.github.io/ftetwild/).\n",
    "\n",
    "Even though the resulting mesh is slightly different, the surfaces used are the same as used in \n",
    "Causemann, M., Vinje, V. & Rognes, M.E. Human intracranial pulsatility during the cardiac cycle: a computational modelling framework. Fluids Barriers CNS 19, 84 (2022). https://doi.org/10.1186/s12987-022-00376-2.\n",
    "Due to their reduced memory footprint we use binary .ply files here, but it would equally be possible to use .stl here."
   ]
  },
  {
   "cell_type": "code",
   "execution_count": null,
   "id": "c0e4c3b6",
   "metadata": {},
   "outputs": [],
   "source": [
    "import wildmeshing as wm\n",
    "import json\n",
    "import numpy as np\n",
    "import pyvista as pv\n",
    "import meshio\n",
    "porous_id = 1\n",
    "fluid_id = 2\n",
    "\n",
    "tetra = wm.Tetrahedralizer(epsilon=0.001,edge_length_r=0.03,\n",
    "                           coarsen=False)\n",
    "tetra.load_csg_tree(json.dumps(\n",
    "    {\"operation\":\"union\",\n",
    "     \"right\":\n",
    "          {\n",
    "          \"operation\":\"union\",\n",
    "          \"left\":{\"operation\":\"union\",\n",
    "                  \"left\":\n",
    "                      {\"operation\":\"union\", \"left\": \"real_brain_surfaces/median_aperture.ply\",\n",
    "                                            \"right\": \"real_brain_surfaces/fourth_ventricle.ply\"},\n",
    "                  \"right\":\n",
    "                      {\"operation\":\"union\", \"left\": \"real_brain_surfaces/foramina.ply\",\n",
    "                                            \"right\": \"real_brain_surfaces/third_ventricle.ply\"},\n",
    "                 },\n",
    "          \"right\":{\"operation\":\"union\", \"left\": \"real_brain_surfaces/aqueduct.ply\",\n",
    "                          \"right\":\"real_brain_surfaces/lateral_ventricles.ply\"},\n",
    "          },\n",
    "     \"left\":\n",
    "         {\"operation\":\"union\", \"left\": \"real_brain_surfaces/csf.ply\",\n",
    "                              \"right\": \"real_brain_surfaces/parenchyma.ply\"},\n",
    "    }\n",
    "))\n",
    "tetra.tetrahedralize()\n",
    "points, cells, marker = tetra.get_tet_mesh()"
   ]
  },
  {
   "cell_type": "code",
   "execution_count": null,
   "id": "ea5dbe9c",
   "metadata": {},
   "outputs": [],
   "source": [
    "mesh = meshio.Mesh(points, [(\"tetra\", cells)],\n",
    "                   cell_data={\"subdomains\": [marker.ravel()]})\n",
    "mesh.write(\"mesh.xdmf\")"
   ]
  },
  {
   "cell_type": "code",
   "execution_count": null,
   "id": "ad1824ce",
   "metadata": {},
   "outputs": [],
   "source": [
    "mesh = pv.read(\"mesh.xdmf\").clean()\n",
    "mesh[\"subdomains\"][mesh[\"subdomains\"]==1] = 9\n",
    "ventricles = mesh.extract_cells(np.isin(marker, [3,4,5,6,7,8]))\n",
    "pl = pv.Plotter()\n",
    "pl.add_mesh(mesh.clip(normal=(1,0,0),crinkle=True), clim=(1,9),\n",
    "            show_edges=True, show_scalar_bar=False)\n",
    "pl.add_mesh(ventricles, clim=(1,9), show_edges=True,\n",
    "            show_scalar_bar=False)\n",
    "pl.background_color = \"white\"\n",
    "pl.view_yz()\n",
    "pl.show()\n",
    "_= pl.screenshot(\"brain_mesh.png\", scale=5)"
   ]
  },
  {
   "cell_type": "code",
   "execution_count": null,
   "id": "bc1fc131",
   "metadata": {},
   "outputs": [],
   "source": [
    "pl = pv.Plotter()\n",
    "pl.add_mesh(ventricles, clim=(1,9), show_edges=True,\n",
    "            show_scalar_bar=False)\n",
    "pl.background_color = \"white\"\n",
    "pl.view_vector([0.7,0.5,-0.2])\n",
    "pl.show()\n",
    "_= pl.screenshot(\"ventricles.png\", scale=5)"
   ]
  }
 ],
 "metadata": {
  "kernelspec": {
   "display_name": "Python 3 (ipykernel)",
   "language": "python",
   "name": "python3"
  },
  "language_info": {
   "codemirror_mode": {
    "name": "ipython",
    "version": 3
   },
   "file_extension": ".py",
   "mimetype": "text/x-python",
   "name": "python",
   "nbconvert_exporter": "python",
   "pygments_lexer": "ipython3",
   "version": "3.9.18"
  }
 },
 "nbformat": 4,
 "nbformat_minor": 5
}
