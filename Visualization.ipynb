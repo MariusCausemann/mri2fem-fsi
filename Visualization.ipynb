{
 "cells": [
  {
   "cell_type": "markdown",
   "id": "8de96c17",
   "metadata": {},
   "source": [
    "## Generating interactive, stand-alone animations\n",
    "In this notebook, we showcase how to generate interactive, stand-alone and time-dependent animations as html files with PyVista and K3D-jupyter."
   ]
  },
  {
   "cell_type": "code",
   "execution_count": null,
   "id": "21952872",
   "metadata": {
    "tags": [
     "output"
    ]
   },
   "outputs": [],
   "source": [
    "import pyvista as pv\n",
    "import meshio\n",
    "import numpy as np\n",
    "import k3d\n",
    "import matplotlib\n",
    "import matplotlib.pyplot as plt\n",
    "from tqdm.notebook import tqdm\n",
    "hexcolor = lambda c: int(matplotlib.colors.to_hex(c)[1:], base=16)\n"
   ]
  },
  {
   "cell_type": "markdown",
   "id": "2da14cb3",
   "metadata": {},
   "source": [
    "After importing the relevant packages, we read in the first two cardiac cycles of the simulation:"
   ]
  },
  {
   "cell_type": "code",
   "execution_count": null,
   "id": "fae1a37b",
   "metadata": {
    "tags": [
     "output"
    ]
   },
   "outputs": [],
   "source": [
    "porous_id = 1\n",
    "fluid_id = 2\n",
    "interface_id = 3\n",
    "d_fac = 10\n",
    "\n",
    "T = 2\n",
    "num_steps = int(T*40)\n",
    "filename = \"results_vis.xdmf\"\n",
    "grid = pv.read(\"mesh/mesh.xdmf\")\n",
    "\n",
    "with meshio.xdmf.TimeSeriesReader(filename) as reader:\n",
    "    points, cells = reader.read_points_cells()\n",
    "    for k in range(num_steps):\n",
    "        t, point_data, cell_data = reader.read_data(k)\n",
    "        for var, data in point_data.items():\n",
    "            grid[f\"{var}_{k}\"] = data\n",
    "            \n",
    "time_idx = range(num_steps)\n",
    "animation_t = np.linspace(0, 10, num_steps)   # slow down the visualization to 10s total"
   ]
  },
  {
   "cell_type": "markdown",
   "id": "0375bc0a",
   "metadata": {},
   "source": [
    "Next, we split the domain in the CSF-filled fluid part and the porous part representing the tissue. Additionally, we clip both to visualize the interior of the domains:"
   ]
  },
  {
   "cell_type": "code",
   "execution_count": null,
   "id": "339d0e22",
   "metadata": {},
   "outputs": [],
   "source": [
    "fluid = grid.extract_cells(grid[\"subdomains\"] == fluid_id)\n",
    "porous = grid.extract_cells(grid[\"subdomains\"] == porous_id)\n",
    "outer_surf = grid.extract_surface().clip()\n",
    "\n",
    "def get_surf(mesh):\n",
    "    mesh = mesh.extract_geometry()\n",
    "    mesh.compute_normals(inplace=True, non_manifold_traversal=False, point_normals=False,\n",
    "                        auto_orient_normals=True)\n",
    "    return mesh\n",
    "\n",
    "por_clip = get_surf(porous.clip(crinkle=True))\n",
    "fluid_clip = fluid.clip()"
   ]
  },
  {
   "cell_type": "markdown",
   "id": "b62f3e95",
   "metadata": {},
   "source": [
    "To visualize the flow field in the CSF-filled domains, we compute arrow glyphs for each time step and scale them with the maximum velocity using PyVista.\n",
    "Next, we transform the first Pyvista glyph a in K3D object and then replace its *vertices* with a dictionary, mapping the animation time and the new vertex location:"
   ]
  },
  {
   "cell_type": "code",
   "execution_count": null,
   "id": "2f41e3ba",
   "metadata": {},
   "outputs": [],
   "source": [
    "# generate arrow glyphs for flow\n",
    "arr_max = max([np.linalg.norm(fluid_clip[f\"u_{t}\"], axis=1).max() for t in time_idx])\n",
    "arrows = []\n",
    "for t in tqdm(time_idx):\n",
    "    arr = fluid_clip.glyph(orient=f\"u_{t}\", scale=f\"u_{t}\",\n",
    "                         factor=0.1/arr_max, tolerance=.005)\n",
    "    arr.clear_data()\n",
    "    arrows.append(arr)\n",
    "    \n",
    "k3d_arr = k3d.vtk_poly_data(arrows[10], color=hexcolor(\"white\"), side=\"double\")\n",
    "k3d_arr.vertices = {animation_t[t]:arrows[t].points for t in time_idx}\n"
   ]
  },
  {
   "cell_type": "markdown",
   "id": "c910622d",
   "metadata": {},
   "source": [
    "Then, we apply a similar procedure to the porous domain, with the addition that we want the colorcoding to represent the total pressure and hence set its time evolution as the *attribute* of the corresponding K3D object and adjust the color range accordingly:"
   ]
  },
  {
   "cell_type": "code",
   "execution_count": null,
   "id": "2916c655",
   "metadata": {
    "tags": [
     "output"
    ]
   },
   "outputs": [],
   "source": [
    "k3d_por = k3d.vtk_poly_data(por_clip, color_attribute=(\"phi_0\", 0,1))\n",
    "k3d_por.attribute = {animation_t[t]: por_clip[f\"phi_{t}\"] for t in time_idx}\n",
    "k3d_por.vertices = {animation_t[t]: k3d_por.vertices + d_fac*por_clip[f\"d_{t}\"] for t in time_idx}\n",
    "k3d_por.color_range = k3d.helpers.minmax(list(k3d_por.attribute.values()))"
   ]
  },
  {
   "cell_type": "markdown",
   "id": "e83941d0",
   "metadata": {},
   "source": [
    "Finally, we generate a K3D object of the outer surface of the mesh (representing the skull) and add all three component to a K3D plot:"
   ]
  },
  {
   "cell_type": "code",
   "execution_count": null,
   "id": "21795a70",
   "metadata": {},
   "outputs": [],
   "source": [
    "k3d_surf = k3d.vtk_poly_data(outer_surf, color=hexcolor(\"deepskyblue\"),\n",
    "                             side=\"double\")\n",
    "pl = k3d.plot(\n",
    "    camera_rotate_speed=3,\n",
    "    camera_zoom_speed=5,\n",
    "    screenshot_scale=1,\n",
    "    background_color=hexcolor(\"white\"),\n",
    "    grid_visible=False,\n",
    "    camera_auto_fit=True,\n",
    "    axes_helper=False,\n",
    "    lighting=2\n",
    "    )\n",
    "pl += k3d_por\n",
    "pl += k3d_arr\n",
    "pl += k3d_surf\n",
    "pl.display()\n",
    "pl.camera = [ 0.39, -0.03, -0.03, -0.05,  0.  ,\n",
    "             -0.02,  0.09, -0.01,  1.  ]"
   ]
  }
 ],
 "metadata": {
  "kernelspec": {
   "display_name": "Python 3 (ipykernel)",
   "language": "python",
   "name": "python3"
  },
  "language_info": {
   "codemirror_mode": {
    "name": "ipython",
    "version": 3
   },
   "file_extension": ".py",
   "mimetype": "text/x-python",
   "name": "python",
   "nbconvert_exporter": "python",
   "pygments_lexer": "ipython3",
   "version": "3.9.18"
  }
 },
 "nbformat": 4,
 "nbformat_minor": 5
}
