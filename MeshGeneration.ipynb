{
 "cells": [
  {
   "cell_type": "markdown",
   "id": "ecad1ad8",
   "metadata": {},
   "source": [
    "### Multidomain Mesh Generation with fTetWild\n",
    " \n",
    "In this notebook, we demonstrate how to generate a multidomain idealized brain mesh using boolean operations on surface meshes (STLs) with [fTetWild](https://wildmeshing.github.io/ftetwild/).\n",
    "\n",
    "First, we import the relevant packages and set the ids of the subdomains and boundaries we want to mark:"
   ]
  },
  {
   "cell_type": "code",
   "execution_count": null,
   "id": "86b2e9f6",
   "metadata": {},
   "outputs": [],
   "source": [
    "import wildmeshing as wm\n",
    "import pyvista as pv\n",
    "import numpy as np\n",
    "import meshio\n",
    "import json\n",
    "from pathlib import Path\n",
    "\n",
    "# domain ids\n",
    "porous_id = 1\n",
    "fluid_id = 2\n",
    "\n",
    "# facet ids\n",
    "skull_id = 1\n",
    "spinal_canal_id = 2\n",
    "interface_id = 3\n",
    "spinal_cord_id = 4\n",
    "aqueduct_V4_id = 5"
   ]
  },
  {
   "cell_type": "markdown",
   "id": "2c56e56e",
   "metadata": {},
   "source": [
    "As our geometry consists of multiple spheres and cylinders, we create surface meshes for each of the components with PyVista and plot them to check the setup: "
   ]
  },
  {
   "cell_type": "code",
   "execution_count": null,
   "id": "539fd4c4",
   "metadata": {},
   "outputs": [],
   "source": [
    "skull = pv.Sphere(radius = 0.08)\n",
    "parenchyma = pv.Sphere(radius = 0.07)\n",
    "ventricle = pv.Sphere(radius = 0.02)\n",
    "canal = pv.Cylinder(center=(0, 0, -0.105), direction=(0,0,-1),\n",
    "                        radius=0.025, height=0.08).triangulate()\n",
    "cord = pv.Cylinder(center=(0, 0, -0.105), direction=(0,0,-1),\n",
    "                        radius=0.017, height=0.08).triangulate()\n",
    "aqueduct = pv.Cylinder(center=(0, 0.03, -0.03), direction=(0,1,-1),\n",
    "                       radius=0.004, height=0.06).triangulate()\n",
    "\n",
    "# display the geometry using PyVista\n",
    "pl = pv.Plotter()\n",
    "pl.add_mesh(parenchyma, opacity=.6, color=\"blue\")\n",
    "pl.add_mesh(ventricle,  color=\"red\")\n",
    "pl.add_mesh(aqueduct, opacity=0.7, color=\"red\")\n",
    "pl.add_mesh(skull, opacity=0.2)\n",
    "pl.add_mesh(canal, opacity=0.2)\n",
    "pl.add_mesh(cord, opacity=0.7, color=\"blue\")\n",
    "pl.background_color = \"white\"\n",
    "pl.show()"
   ]
  },
  {
   "cell_type": "code",
   "execution_count": null,
   "id": "deb4f36e",
   "metadata": {},
   "outputs": [],
   "source": [
    "# save the surface meshes for later use by fTetWild\n",
    "stl_directory = Path(\"mesh/stls/\")\n",
    "stl_directory.mkdir(exist_ok=True, parents=True)\n",
    "parenchyma.save(stl_directory / \"parenchyma.stl\")\n",
    "skull.save(stl_directory / \"skull.stl\")\n",
    "cord.save(stl_directory / \"cord.stl\")\n",
    "canal.save(stl_directory / \"canal.stl\")\n",
    "ventricle.save(stl_directory / \"ventricle.stl\")\n",
    "aqueduct.save(stl_directory / \"aqueduct.stl\")"
   ]
  },
  {
   "cell_type": "markdown",
   "id": "414a6419",
   "metadata": {},
   "source": [
    "Now, we have everything in place to define a constructive solid geometry(CSG)-tree, describing the order and type of boolean operations carried out on the surface meshes:\n",
    "\n",
    "* first, we take the union of brain tissue components: parenchyma and spinal cord \n",
    "* then, we subtract the ventricle and aqueduct parts from the tissue\n",
    "* finally, we take the union of the outermost sphere and cylinder with the result of the previous steps\n",
    "\n",
    "Further, we specify maximum distance between the input surfaces and the surface of the generated volumetric mesh with the *epsilon* parameter (specifying the relative envelop size) and relative edge length with *edge_length_r*.\n",
    "\n",
    "Note that while we use a simple geometry here, we can easily replace the STL files with complex shapes and apply the same procedure to generate image-derived realistic models."
   ]
  },
  {
   "cell_type": "code",
   "execution_count": null,
   "id": "1501eca6",
   "metadata": {},
   "outputs": [],
   "source": [
    "tetra = wm.Tetrahedralizer(epsilon=0.002, edge_length_r=0.05,\n",
    "                           coarsen=False)\n",
    "tetra.load_csg_tree(json.dumps(\n",
    "    {\"operation\":\"union\",\n",
    "     \"right\":\n",
    "          {\n",
    "          \"operation\":\"difference\",\n",
    "          \"left\":{\"operation\":\"union\", \"left\": str(stl_directory / \"parenchyma.stl\"),\n",
    "                              \"right\": str(stl_directory / \"cord.stl\")},\n",
    "          \"right\":{\"operation\":\"union\", \"left\": str(stl_directory / \"aqueduct.stl\"),\n",
    "                          \"right\":str(stl_directory / \"ventricle.stl\")},\n",
    "          },\n",
    "     \"left\":\n",
    "        {\"operation\":\"union\", \"left\": str(stl_directory / \"skull.stl\"),\n",
    "                          \"right\":str(stl_directory / \"canal.stl\")},                \n",
    "    }\n",
    "))\n",
    "tetra.tetrahedralize()\n",
    "point_array, cell_array, marker = tetra.get_tet_mesh()"
   ]
  },
  {
   "cell_type": "markdown",
   "id": "31a505e7",
   "metadata": {},
   "source": [
    "Next we check the *marker* values returned by *fTetWild* and set our own subdomain ids and write the mesh to file:"
   ]
  },
  {
   "cell_type": "code",
   "execution_count": null,
   "id": "5c2b8c57",
   "metadata": {},
   "outputs": [],
   "source": [
    "subdomains = np.copy(marker)\n",
    "subdomains[np.isin(marker, [1,2])] = fluid_id\n",
    "subdomains[np.isin(marker, [3,4])] = porous_id\n",
    "subdomains[np.isin(marker, [5])] = 3\n",
    "subdomains[np.isin(marker, [6])] = 4\n",
    "labels = np.copy(subdomains)\n",
    "subdomains[np.isin(subdomains, [3,4])] = fluid_id\n",
    "meshio_mesh = meshio.Mesh(point_array, [(\"tetra\", cell_array)],\n",
    "                       cell_data={\"gmsh:physical\": [marker.ravel()],\n",
    "                                  \"labels\": [labels.ravel()],\n",
    "                                  \"subdomains\": [subdomains.ravel()]})\n",
    "meshio_mesh.write(\"mesh/mesh.xdmf\")"
   ]
  },
  {
   "cell_type": "markdown",
   "id": "357d0d20",
   "metadata": {},
   "source": [
    "Finally, we check the resulting mesh by reading it back in and plotting it:"
   ]
  },
  {
   "cell_type": "code",
   "execution_count": null,
   "id": "df714f32",
   "metadata": {},
   "outputs": [],
   "source": [
    "pv_mesh = pv.read(\"mesh/mesh.xdmf\")\n",
    "pv_mesh.clip(normal=(1,0,0),crinkle=True).plot(\"subdomains\" ,show_edges=True, background=\"white\")"
   ]
  },
  {
   "cell_type": "markdown",
   "id": "b0fae6ce",
   "metadata": {},
   "source": [
    "### Generating subdomain restrictions for Multiphenics\n",
    "\n",
    "To create function spaces restricted to a subdomain of the whole mesh with *MultiPhenics*, we need to create and save so-called *MeshRestrictions* prior to the main simulation run:"
   ]
  },
  {
   "cell_type": "code",
   "execution_count": null,
   "id": "8588d428",
   "metadata": {},
   "outputs": [],
   "source": [
    "from fenics import *\n",
    "from multiphenics import *\n",
    "\n",
    "def generate_subdomain_restriction(mesh, subdomains, subdomain_id):\n",
    "    D = mesh.topology().dim()\n",
    "    # Initialize empty restriction\n",
    "    restriction = MeshRestriction(mesh, None)\n",
    "    for d in range(D + 1):\n",
    "        mesh_function_d = MeshFunction(\"bool\", mesh, d)\n",
    "        mesh_function_d.set_all(False)\n",
    "        restriction.append(mesh_function_d)\n",
    "    # Mark restriction mesh functions based on subdomain id\n",
    "    for c in cells(mesh):\n",
    "        if subdomains[c] == subdomain_id:\n",
    "            restriction[D][c] = True\n",
    "            for d in range(D):\n",
    "                for e in entities(c, d):\n",
    "                    restriction[d][e] = True\n",
    "    # Return\n",
    "    return restriction"
   ]
  },
  {
   "cell_type": "code",
   "execution_count": null,
   "id": "8605401b",
   "metadata": {},
   "outputs": [],
   "source": [
    "fenics_mesh = Mesh()\n",
    "with XDMFFile(\"mesh/mesh.xdmf\") as f:\n",
    "    f.read(fenics_mesh)\n",
    "    sm = MeshFunction(\"size_t\", fenics_mesh, 3, 0)\n",
    "    labels = MeshFunction(\"size_t\", fenics_mesh, 3, 0)\n",
    "    f.read(sm, \"subdomains\")\n",
    "    f.read(labels, \"labels\")\n",
    "    sm.rename(\"subdomains\",\"\")\n",
    "\n",
    "fluid_restr = generate_subdomain_restriction(fenics_mesh, sm, fluid_id)\n",
    "porous_restr = generate_subdomain_restriction(fenics_mesh, sm, porous_id)\n",
    "fluid_restr._write(\"mesh/fluid.rtc.xdmf\")\n",
    "porous_restr._write(\"mesh/porous.rtc.xdmf\")"
   ]
  },
  {
   "cell_type": "markdown",
   "id": "a5fa0716",
   "metadata": {},
   "source": [
    "## Marking Boundaries and Interfaces\n",
    "We mark both the internal interface by looping over all facets in the mesh, checking the subdomain ids of the corresponding cells and identifying the internal interfaces.\n",
    "In addition to the tissue-CSF interface, we also mark the surface between the aqueduct and the fourth ventricle, since we would like to compute aqueduct flow rates in the post-processing step."
   ]
  },
  {
   "cell_type": "code",
   "execution_count": null,
   "id": "391bd3ae",
   "metadata": {},
   "outputs": [],
   "source": [
    "bm = MeshFunction(\"size_t\", fenics_mesh, 2, 0)\n",
    "\n",
    "def mark_internal_interface(mesh, subdomains, bm, interface_id,\n",
    "                            doms=None):\n",
    "    # set internal interface\n",
    "    for f in facets(mesh):\n",
    "        domains = []\n",
    "        for c in cells(f):\n",
    "            domains.append(subdomains[c])\n",
    "        domains = set(domains)\n",
    "        if len(domains)==2:\n",
    "            if doms is None:\n",
    "                bm[f] = interface_id\n",
    "            elif set(doms)==domains:\n",
    "                bm[f] = interface_id\n",
    "\n",
    "# mark tissue-CSF interface\n",
    "mark_internal_interface(fenics_mesh, sm, bm, interface_id)\n",
    "# mark aqueduct-fourth ventricle interface for later flow computation\n",
    "mark_internal_interface(fenics_mesh, labels, bm, aqueduct_V4_id, doms=[3,4])"
   ]
  },
  {
   "cell_type": "markdown",
   "id": "b614ca86",
   "metadata": {},
   "source": [
    "Similarly, we mark the external boundaries by a combination of the facet location and the subdomain id of the corresponding subdomain:"
   ]
  },
  {
   "cell_type": "code",
   "execution_count": null,
   "id": "87814cae",
   "metadata": {},
   "outputs": [],
   "source": [
    "def mark_external_boundaries(mesh, subdomains, boundaries, \n",
    "                             subdomain_ids, new_boundary_id):\n",
    "    for f in facets(mesh):\n",
    "        if not f.exterior():\n",
    "            continue\n",
    "        c = list(cells(f))[0]\n",
    "        if subdomains[c] in subdomain_ids:\n",
    "            boundaries[f] = new_boundary_id\n",
    "                \n",
    "z_min = fenics_mesh.coordinates()[:,2].min()\n",
    "bottom = CompiledSubDomain(\"on_boundary && near(x[2], v, tol)\",\n",
    "                        v=z_min, tol=0.001)\n",
    "outer = CompiledSubDomain(\"on_boundary\")\n",
    "outer.mark(bm, skull_id)\n",
    "bottom.mark(bm, spinal_canal_id)\n",
    "mark_external_boundaries(fenics_mesh, sm, bm, \n",
    "                         [porous_id], spinal_cord_id)\n",
    "\n",
    "with XDMFFile(\"mesh/facets.xdmf\") as f:\n",
    "    f.write(bm)\n",
    "with XDMFFile(\"mesh/mesh.xdmf\") as f:\n",
    "    f.write(sm)"
   ]
  }
 ],
 "metadata": {
  "kernelspec": {
   "display_name": "Python 3 (ipykernel)",
   "language": "python",
   "name": "python3"
  },
  "language_info": {
   "codemirror_mode": {
    "name": "ipython",
    "version": 3
   },
   "file_extension": ".py",
   "mimetype": "text/x-python",
   "name": "python",
   "nbconvert_exporter": "python",
   "pygments_lexer": "ipython3",
   "version": "3.9.18"
  }
 },
 "nbformat": 4,
 "nbformat_minor": 5
}
