{
 "cells": [
  {
   "cell_type": "markdown",
   "id": "d4c49ae2",
   "metadata": {},
   "source": [
    "### The brain and CSF - a fluid-poroelastic interaction problem\n",
    "\n",
    "In this notebook, we run the main finite element simulation of the brain-CSF fluid-poroelastic interaction problem.\n",
    "First, we import both FEniCS and Multiphenics and the definition of function spaces, measures and the weak form of the system:"
   ]
  },
  {
   "cell_type": "code",
   "execution_count": null,
   "id": "0fe060b7",
   "metadata": {},
   "outputs": [],
   "source": [
    "from fenics import *\n",
    "from multiphenics import *\n",
    "from biotStokesWeakForm import (create_function_spaces, \n",
    "                                create_measures, biot_stokes_system)\n",
    "import numpy as np\n",
    "from tqdm.notebook import tqdm\n",
    "import os"
   ]
  },
  {
   "cell_type": "markdown",
   "id": "5f4f55dc",
   "metadata": {},
   "source": [
    "Next, we specify the relevant subdomain and facet ids, the simulation time, material parameter and the source term *g*, which represents the net blood flow into the brain tissue and drives the dynamcics: "
   ]
  },
  {
   "cell_type": "code",
   "execution_count": null,
   "id": "363fb869",
   "metadata": {},
   "outputs": [],
   "source": [
    "porous_id = 1\n",
    "fluid_id = 2\n",
    "\n",
    "# facet ids\n",
    "skull_id = 1\n",
    "spinal_canal_id = 2\n",
    "interface_id = 3\n",
    "spinal_cord_id = 4\n",
    "aqueduct_V4_id = 5\n",
    "\n",
    "u_degree, p_degree = (2,1)\n",
    "T = 8\n",
    "num_steps = int(T*40)\n",
    "dt = T / num_steps\n",
    "times = np.linspace(0, T, num_steps + 1)\n",
    "nu = 0.479\n",
    "E = 2000\n",
    "material_parameter = {\"kappa\":1e-14,\"lmbda\":nu * E / ((1.0 - 2.0 * nu) * (1.0 + nu)),\n",
    "                      \"c\":1e-7,\"mu_s\":E / (2.0 * (1.0 + nu)),\n",
    "                      \"rho_s\":1000, \"alpha\":1, \"rho_f\":1000, \"mu_f\":0.0007,\n",
    "                      \"gamma\":1}\n",
    "g = Expression(\"A*sin(2*M_PI*f*t)\", f =1, t=0, A=0.01, degree=0)  #roughly 10ml/s peak per 1000ml volume\n",
    "names = [\"u\", \"pF\", \"d\", \"pP\", \"phi\"]\n"
   ]
  },
  {
   "cell_type": "markdown",
   "id": "22fecc89",
   "metadata": {},
   "source": [
    "Additionally, we read in the mesh with the subdomain marker, the facet marker and the restrictions required by Multiphenics:"
   ]
  },
  {
   "cell_type": "code",
   "execution_count": null,
   "id": "aaae4e42",
   "metadata": {},
   "outputs": [],
   "source": [
    "mesh = Mesh()\n",
    "with XDMFFile(\"mesh/mesh.xdmf\") as f:\n",
    "    f.read(mesh)\n",
    "    sm = MeshFunction(\"size_t\", mesh, 3, 0)\n",
    "    f.read(sm, \"subdomains\")\n",
    "    \n",
    "with XDMFFile(\"mesh/facets.xdmf\") as f:\n",
    "    bm = MeshFunction(\"size_t\", mesh, 2, 0)\n",
    "    f.read(bm)\n",
    "    \n",
    "fluid_restriction = MeshRestriction(mesh, \"mesh/fluid.rtc.xdmf\")\n",
    "porous_restriction = MeshRestriction(mesh, \"mesh/porous.rtc.xdmf\")"
   ]
  },
  {
   "cell_type": "markdown",
   "id": "250dd128",
   "metadata": {},
   "source": [
    "Then, we use the imported functions to setup the measures, the block function space and the left- and right-hand-side of the system. \n",
    "Further, we specify the Dirichlet boundary conditions for the skull and the spinal cord and setup a *MUMPS* direct solver object."
   ]
  },
  {
   "cell_type": "code",
   "execution_count": null,
   "id": "34399a4e",
   "metadata": {},
   "outputs": [],
   "source": [
    "measures = create_measures(mesh, sm, bm,\n",
    "                           fluid_id, porous_id, interface_id)\n",
    "\n",
    "H = create_function_spaces(mesh, u_degree, p_degree,\n",
    "                           fluid_restriction, porous_restriction)\n",
    "\n",
    "lhs, rhs, block_function = biot_stokes_system(mesh, material_parameter,\n",
    "                                              H, measures, dt, g_source=g) \n",
    "bc_d = DirichletBC(H.sub(2), Constant((0,0,0)), bm, spinal_cord_id)\n",
    "bc_u = DirichletBC(H.sub(0), Constant((0,0,0)), bm, skull_id)\n",
    "bcs = BlockDirichletBC([bc_d, bc_u])\n",
    "AA = block_assemble(lhs, keep_diagonal=True)\n",
    "bcs.apply(AA)\n",
    "solver = PETScLUSolver(AA, \"mumps\")"
   ]
  },
  {
   "cell_type": "markdown",
   "id": "14e1d48c",
   "metadata": {},
   "source": [
    "Finally, we set up writing the results to file and start the main time stepping loop: We update the time of the source term, reassemble the right-hand-side and call the main *solve*."
   ]
  },
  {
   "cell_type": "code",
   "execution_count": null,
   "id": "5ad2a60b",
   "metadata": {},
   "outputs": [],
   "source": [
    "xdmf_vis = XDMFFile(\"results_vis.xdmf\" )\n",
    "xdmf_vis.parameters[\"functions_share_mesh\"] = True\n",
    "xdmf_vis.parameters[\"rewrite_function_mesh\"] = False\n",
    "xdmf_postp = XDMFFile(\"results_postp.xdmf\" )\n",
    "\n",
    "for k,f in enumerate(block_split(block_function)):\n",
    "        f.rename(names[k], \"\")\n",
    "        xdmf_postp.write_checkpoint(f,names[k], 0, xdmf_postp.Encoding.HDF5, False)\n",
    "        xdmf_vis.write(f, 0)\n",
    "\n",
    "for t in tqdm(times):\n",
    "    g.t = t\n",
    "    FF = block_assemble(rhs)\n",
    "    bcs.apply(FF)\n",
    "    solver.solve(block_function.block_vector(), FF)\n",
    "    block_function.block_vector().block_function().apply(\"to subfunctions\")\n",
    "    results = block_split(block_function)\n",
    "    for k,f in enumerate(results):\n",
    "        f.rename(names[k], \"\")\n",
    "        xdmf_postp.write_checkpoint(f, names[k], t, xdmf_postp.Encoding.HDF5, True)\n",
    "        xdmf_vis.write(f,t)\n",
    "xdmf_vis.close()\n",
    "xdmf_postp.close()"
   ]
  }
 ],
 "metadata": {
  "kernelspec": {
   "display_name": "Python 3 (ipykernel)",
   "language": "python",
   "name": "python3"
  },
  "language_info": {
   "codemirror_mode": {
    "name": "ipython",
    "version": 3
   },
   "file_extension": ".py",
   "mimetype": "text/x-python",
   "name": "python",
   "nbconvert_exporter": "python",
   "pygments_lexer": "ipython3",
   "version": "3.9.18"
  }
 },
 "nbformat": 4,
 "nbformat_minor": 5
}
